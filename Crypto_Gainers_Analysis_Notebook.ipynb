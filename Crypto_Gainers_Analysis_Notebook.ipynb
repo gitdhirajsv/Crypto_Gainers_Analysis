{
  "nbformat": 4,
  "nbformat_minor": 0,
  "metadata": {
    "colab": {
      "provenance": []
    },
    "kernelspec": {
      "name": "python3",
      "display_name": "Python 3"
    },
    "language_info": {
      "name": "python"
    }
  },
  "cells": [
    {
      "cell_type": "markdown",
      "source": [
        "# Crypto Gainers Analysis\n",
        "\n",
        "This project involves scraping data from a website to gather information about the top cryptocurrency gainers, processing this data to extract meaningful insights, and summarizing the occurrences of each cryptocurrency across different months.\n",
        "\n",
        "## Setup\n",
        "\n",
        "First, we need to install the necessary packages. Run the following cell to install the required libraries.\n",
        "\n"
      ],
      "metadata": {
        "id": "-5_7MUfXCeGQ"
      }
    },
    {
      "cell_type": "code",
      "source": [
        "# Install required packages\n",
        "!pip install requests\n",
        "!pip install beautifulsoup4\n",
        "!pip install pandas\n",
        "!pip install matplotlib\n"
      ],
      "metadata": {
        "id": "ITybESpU3-1I",
        "colab": {
          "base_uri": "https://localhost:8080/"
        },
        "outputId": "b7c38f8d-5a7e-4dae-a30f-d139222e12ef"
      },
      "execution_count": 24,
      "outputs": [
        {
          "output_type": "stream",
          "name": "stdout",
          "text": [
            "Requirement already satisfied: requests in /usr/local/lib/python3.10/dist-packages (2.31.0)\n",
            "Requirement already satisfied: charset-normalizer<4,>=2 in /usr/local/lib/python3.10/dist-packages (from requests) (3.3.2)\n",
            "Requirement already satisfied: idna<4,>=2.5 in /usr/local/lib/python3.10/dist-packages (from requests) (3.7)\n",
            "Requirement already satisfied: urllib3<3,>=1.21.1 in /usr/local/lib/python3.10/dist-packages (from requests) (2.0.7)\n",
            "Requirement already satisfied: certifi>=2017.4.17 in /usr/local/lib/python3.10/dist-packages (from requests) (2024.2.2)\n",
            "Requirement already satisfied: beautifulsoup4 in /usr/local/lib/python3.10/dist-packages (4.12.3)\n",
            "Requirement already satisfied: soupsieve>1.2 in /usr/local/lib/python3.10/dist-packages (from beautifulsoup4) (2.5)\n",
            "Requirement already satisfied: pandas in /usr/local/lib/python3.10/dist-packages (2.0.3)\n",
            "Requirement already satisfied: python-dateutil>=2.8.2 in /usr/local/lib/python3.10/dist-packages (from pandas) (2.8.2)\n",
            "Requirement already satisfied: pytz>=2020.1 in /usr/local/lib/python3.10/dist-packages (from pandas) (2023.4)\n",
            "Requirement already satisfied: tzdata>=2022.1 in /usr/local/lib/python3.10/dist-packages (from pandas) (2024.1)\n",
            "Requirement already satisfied: numpy>=1.21.0 in /usr/local/lib/python3.10/dist-packages (from pandas) (1.25.2)\n",
            "Requirement already satisfied: six>=1.5 in /usr/local/lib/python3.10/dist-packages (from python-dateutil>=2.8.2->pandas) (1.16.0)\n",
            "Requirement already satisfied: matplotlib in /usr/local/lib/python3.10/dist-packages (3.7.1)\n",
            "Requirement already satisfied: contourpy>=1.0.1 in /usr/local/lib/python3.10/dist-packages (from matplotlib) (1.2.1)\n",
            "Requirement already satisfied: cycler>=0.10 in /usr/local/lib/python3.10/dist-packages (from matplotlib) (0.12.1)\n",
            "Requirement already satisfied: fonttools>=4.22.0 in /usr/local/lib/python3.10/dist-packages (from matplotlib) (4.51.0)\n",
            "Requirement already satisfied: kiwisolver>=1.0.1 in /usr/local/lib/python3.10/dist-packages (from matplotlib) (1.4.5)\n",
            "Requirement already satisfied: numpy>=1.20 in /usr/local/lib/python3.10/dist-packages (from matplotlib) (1.25.2)\n",
            "Requirement already satisfied: packaging>=20.0 in /usr/local/lib/python3.10/dist-packages (from matplotlib) (24.0)\n",
            "Requirement already satisfied: pillow>=6.2.0 in /usr/local/lib/python3.10/dist-packages (from matplotlib) (9.4.0)\n",
            "Requirement already satisfied: pyparsing>=2.3.1 in /usr/local/lib/python3.10/dist-packages (from matplotlib) (3.1.2)\n",
            "Requirement already satisfied: python-dateutil>=2.7 in /usr/local/lib/python3.10/dist-packages (from matplotlib) (2.8.2)\n",
            "Requirement already satisfied: six>=1.5 in /usr/local/lib/python3.10/dist-packages (from python-dateutil>=2.7->matplotlib) (1.16.0)\n"
          ]
        }
      ]
    },
    {
      "cell_type": "markdown",
      "source": [
        "## Web Scraping\n",
        "\n",
        "The following code scrapes data from the website and saves it into a CSV file.\n"
      ],
      "metadata": {
        "id": "mySmMK7lqmGY"
      }
    },
    {
      "cell_type": "code",
      "source": [
        "import requests\n",
        "from bs4 import BeautifulSoup\n",
        "import csv\n",
        "\n",
        "# Base URL and search query\n",
        "base_url = \"https://insidebitcoins.com/page/\"\n",
        "search_query = \"?s=Top+Crypto+Gainers\"\n",
        "\n",
        "# Total number of pages\n",
        "total_pages = 22\n",
        "\n",
        "# Open a CSV file to store the data\n",
        "with open(\"top_crypto_gainers.csv\", \"w\", newline='', encoding=\"utf-8\") as csvfile:\n",
        "    # Create a CSV writer object\n",
        "    writer = csv.writer(csvfile)\n",
        "\n",
        "    # Write header row\n",
        "    writer.writerow(['Page', 'Title'])\n",
        "\n",
        "    # Loop through each page\n",
        "    for page_num in range(1, total_pages + 1):\n",
        "        # Construct the URL for the current page\n",
        "        url = f\"{base_url}{page_num}{search_query}\"\n",
        "\n",
        "        # Send a GET request to the URL\n",
        "        response = requests.get(url)\n",
        "\n",
        "        # Parse HTML\n",
        "        soup = BeautifulSoup(response.text, 'html.parser')\n",
        "\n",
        "        # Find all the article titles containing the top crypto gainers\n",
        "        article_titles = soup.find_all('a', class_='article-header-title')\n",
        "\n",
        "        # Write the titles to the CSV file\n",
        "        for title in article_titles:\n",
        "            writer.writerow([page_num, title.text.strip()])\n",
        "\n",
        "print(\"Data has been saved to top_crypto_gainers.csv.\")\n"
      ],
      "metadata": {
        "colab": {
          "base_uri": "https://localhost:8080/"
        },
        "id": "6ifYWLUVqrO_",
        "outputId": "49d20487-28d8-4197-c01e-2797a42737dc"
      },
      "execution_count": 30,
      "outputs": [
        {
          "output_type": "stream",
          "name": "stdout",
          "text": [
            "Data has been saved to top_crypto_gainers.csv.\n"
          ]
        }
      ]
    },
    {
      "cell_type": "markdown",
      "source": [
        "## Data Processing\n",
        "\n",
        "Next, we process the scraped data to count the occurrences of each cryptocurrency by month and save the summary to a new CSV file.\n"
      ],
      "metadata": {
        "id": "br5hBNLqquso"
      }
    },
    {
      "cell_type": "code",
      "source": [
        "import pandas as pd\n",
        "\n",
        "# Load the original CSV file\n",
        "df = pd.read_csv('top_crypto_gainers.csv')\n",
        "\n",
        "# Initialize a dictionary to store data for each page\n",
        "page_data = {}\n",
        "\n",
        "# Iterate over each row in the CSV\n",
        "for index, row in df.iterrows():\n",
        "    page = int(row['Page'])\n",
        "    title = row['Title']\n",
        "\n",
        "    # Extract month, day, and cryptocurrencies\n",
        "    split_title = title.split('Today')\n",
        "    if len(split_title) > 1:  # Check if the title contains \"Today\"\n",
        "        month_day = split_title[1].strip().split()  # Extract month and day\n",
        "        month = month_day[0]  # Extract month\n",
        "        day = month_day[1]  # Extract day\n",
        "        cryptos = [crypto.strip() for crypto in split_title[1].split('–')[1].split(',')]  # Extract cryptocurrencies\n",
        "\n",
        "        # Update page data dictionary\n",
        "        if page not in page_data:\n",
        "            page_data[page] = {'Month': month, 'Day': day, 'Cryptocurrencies': cryptos}\n",
        "        else:\n",
        "            page_data[page]['Cryptocurrencies'].extend(cryptos)\n",
        "\n",
        "# Write the extracted data into a new CSV file\n",
        "with open('top_crypto_gainers_processed.csv', 'w', newline='') as csvfile:\n",
        "    fieldnames = ['Page', 'Month', 'Day', 'Cryptocurrency']\n",
        "    writer = csv.DictWriter(csvfile, fieldnames=fieldnames)\n",
        "\n",
        "    writer.writeheader()\n",
        "\n",
        "    # Write data for each page\n",
        "    for page, data in page_data.items():\n",
        "        month = data['Month']\n",
        "        day = data['Day']\n",
        "        cryptos = data['Cryptocurrencies']\n",
        "        for crypto in cryptos:\n",
        "            writer.writerow({'Page': page, 'Month': month, 'Day': day, 'Cryptocurrency': crypto})\n",
        "\n",
        "print(\"Data saved successfully to 'top_crypto_gainers_processed.csv'.\")\n"
      ],
      "metadata": {
        "colab": {
          "base_uri": "https://localhost:8080/"
        },
        "id": "E8Cfp6laqx1m",
        "outputId": "1e655ffa-5dd2-4280-b318-18062ab6bfd4"
      },
      "execution_count": 31,
      "outputs": [
        {
          "output_type": "stream",
          "name": "stdout",
          "text": [
            "Data saved successfully to 'top_crypto_gainers_processed.csv'.\n"
          ]
        }
      ]
    },
    {
      "cell_type": "markdown",
      "source": [
        "## Summarizing Data\n",
        "\n",
        "We will now summarize the data to count the occurrences of each cryptocurrency across different months.\n"
      ],
      "metadata": {
        "id": "GAuSTHJgqzqH"
      }
    },
    {
      "cell_type": "code",
      "source": [
        "# Load the processed CSV file into a DataFrame\n",
        "df_processed = pd.read_csv(\"top_crypto_gainers_processed.csv\")\n",
        "\n",
        "# Create a pivot table to count the occurrences of each cryptocurrency in each month\n",
        "pivot_table = df_processed.pivot_table(index='Cryptocurrency', columns='Month', aggfunc='size', fill_value=0)\n",
        "\n",
        "# Calculate the total count of occurrences for each cryptocurrency across all months\n",
        "total_count = pivot_table.sum(axis=1)\n",
        "\n",
        "# Get the list of months\n",
        "months = pivot_table.columns.tolist()\n",
        "\n",
        "# Initialize a dictionary to store the months in which each cryptocurrency appeared\n",
        "months_dict = {}\n",
        "\n",
        "# Iterate over each cryptocurrency\n",
        "for crypto in pivot_table.index:\n",
        "    # Get the months in which the cryptocurrency appeared\n",
        "    appeared_months = [months[i] for i in range(len(months)) if pivot_table.loc[crypto, months[i]] > 0]\n",
        "    # Store the months in the dictionary\n",
        "    months_dict[crypto] = appeared_months\n",
        "\n",
        "# Create a DataFrame to display the total count of occurrences and the months\n",
        "result_df = pd.DataFrame({'Total Count': total_count, 'Appeared Months': months_dict})\n",
        "\n",
        "# Sort the DataFrame by the \"Total Count\" column in descending order\n",
        "result_df_sorted = result_df.sort_values(by='Total Count', ascending=False)\n",
        "\n",
        "# Save the result to a new CSV file\n",
        "result_df_sorted[['Total Count', 'Appeared Months']].to_csv(\"Cryptocurrency_Gainers_Summary_Generator.csv\", index_label='Cryptocurrency')\n",
        "\n",
        "print(\"Data has been saved to 'Cryptocurrency_Gainers_Summary_Generator.csv'.\")\n"
      ],
      "metadata": {
        "colab": {
          "base_uri": "https://localhost:8080/"
        },
        "id": "K4YtZb_7q1SX",
        "outputId": "c0ba20be-1e49-46b7-cf9d-af172210c3a7"
      },
      "execution_count": 27,
      "outputs": [
        {
          "output_type": "stream",
          "name": "stdout",
          "text": [
            "Data has been saved to 'Cryptocurrency_Gainers_Summary_Generator.csv'.\n"
          ]
        }
      ]
    },
    {
      "cell_type": "markdown",
      "source": [
        "## Insights\n"
      ],
      "metadata": {
        "id": "x7mARRew7Eu-"
      }
    },
    {
      "cell_type": "code",
      "source": [
        "from tabulate import tabulate\n",
        "\n",
        "# Insight 1: Variability in Token Growth\n",
        "insight_1_data = [[\"Stable tokens:\", stable_tokens], [\"Variable tokens:\", variable_tokens]]\n",
        "\n",
        "# Insight 2: Monthly Variations\n",
        "insight_2_data = [[\"Month with maximum token listings:\", max_month], [\"Month with minimum token listings:\", min_month]]\n",
        "\n",
        "# Insight 3: Emerging Tokens\n",
        "insight_3_data = [[\"Emerging tokens:\", emerging_tokens]]\n",
        "\n",
        "# Insight 4: Stability vs. Volatility\n",
        "insight_4_data = [[\"Stable token presence:\", stable_presence], [\"Volatile token presence:\", volatile_presence]]\n",
        "\n",
        "# Insight 5: Popular Tokens\n",
        "insight_5_data = [[\"Popular tokens:\", popular_tokens]]\n",
        "\n",
        "# Insight 6: Clusters of Tokens\n",
        "insight_6_data = [[\"Token clusters by month:\"]]\n",
        "for month, tokens in token_clusters.items():\n",
        "    insight_6_data.append([month, ', '.join(tokens)])\n",
        "\n",
        "# Insight 7: Total Token Count\n",
        "insight_7_data = [[\"Total token count by month:\"]]\n",
        "for month, count in total_token_count.items():\n",
        "    insight_7_data.append([month, count])\n",
        "\n",
        "# Display insights as tables\n",
        "print(\"Insight 1: Variability in Token Growth\")\n",
        "print(tabulate(insight_1_data, headers=[\"Insight\", \"Data\"]))\n",
        "print()\n",
        "\n",
        "print(\"Insight 2: Monthly Variations\")\n",
        "print(tabulate(insight_2_data, headers=[\"Insight\", \"Data\"]))\n",
        "print()\n",
        "\n",
        "print(\"Insight 3: Emerging Tokens\")\n",
        "print(tabulate(insight_3_data, headers=[\"Insight\", \"Data\"]))\n",
        "print()\n",
        "\n",
        "print(\"Insight 4: Stability vs. Volatility\")\n",
        "print(tabulate(insight_4_data, headers=[\"Insight\", \"Data\"]))\n",
        "print()\n",
        "\n",
        "print(\"Insight 5: Popular Tokens\")\n",
        "print(tabulate(insight_5_data, headers=[\"Insight\", \"Data\"]))\n",
        "print()\n",
        "\n",
        "print(\"Insight 6: Clusters of Tokens\")\n",
        "print(tabulate(insight_6_data, headers=[\"Insight\", \"Data\"]))\n",
        "print()\n",
        "\n",
        "print(\"Insight 7: Total Token Count\")\n",
        "print(tabulate(insight_7_data, headers=[\"Insight\", \"Data\"]))\n",
        "\n",
        "import pandas as pd\n",
        "\n",
        "# Create DataFrames for each insight\n",
        "insight_1_df = pd.DataFrame(insight_1_data, columns=[\"Insight\", \"Data\"])\n",
        "insight_2_df = pd.DataFrame(insight_2_data, columns=[\"Insight\", \"Data\"])\n",
        "insight_3_df = pd.DataFrame(insight_3_data, columns=[\"Insight\", \"Data\"])\n",
        "insight_4_df = pd.DataFrame(insight_4_data, columns=[\"Insight\", \"Data\"])\n",
        "insight_5_df = pd.DataFrame(insight_5_data, columns=[\"Insight\", \"Data\"])\n",
        "insight_6_df = pd.DataFrame(insight_6_data[1:], columns=[\"Month\", \"Token Cluster\"])\n",
        "insight_7_df = pd.DataFrame(insight_7_data[1:], columns=[\"Month\", \"Total Token Count\"])\n",
        "\n",
        "# Concatenate all DataFrames\n",
        "all_insights_df = pd.concat([insight_1_df, insight_2_df, insight_3_df, insight_4_df, insight_5_df, insight_6_df, insight_7_df])\n",
        "\n",
        "# Export the combined DataFrame to CSV\n",
        "all_insights_df.to_csv('Data_insights.csv', index=False)\n"
      ],
      "metadata": {
        "colab": {
          "base_uri": "https://localhost:8080/"
        },
        "id": "ng9paNbX7lXc",
        "outputId": "6900a22a-bf34-4190-d03d-ce26e700ecaf"
      },
      "execution_count": 42,
      "outputs": [
        {
          "output_type": "stream",
          "name": "stdout",
          "text": [
            "Insight 1: Variability in Token Growth\n",
            "Insight           Data\n",
            "----------------  -------------------------------------------------------------------------------------------------------------------------------------------------------------------------------------------------------------------------------------------------------------------------------------------------------------------------------------------------------------------------------------------------------------------------------------------------------------------------------------------------------------------------------------------------------------------------------------------------------------------------------------------------------------------------------------------------------------------------------------------------------------------------------------------------------------------------------------------------------------------------------------------------------------------------------------------------------------------------------------------------------------------------------------------------------------------------------------------------------------------------------------------------------------------------------------------------------------------------------------------------------------------------------------------------------------------------------------------------------------------------------------------------------------------------------------------------------------------------------------------------------------------------------------------------------------------------------------------------------------------------------------------------------------------------------------------------------------------------------------------------------------------------------------------------------------------------------------------------------------------------------------------------------------------------------------------------------------------------------------------------------------------------------------------------------------------------------------------------------------------------------------------------------------------------------------------------------------------------------------------------------------------------------------------------------------------------------------------------------------------------------------------------------------------------------------------------------------------------------------------------------------------------------------------------------------------------------------------------------------------------------------------------------------------------------------------------------------------------------------------------------------------------------------------------------------------------------------------------------------------------------------------------------------------------------------------------------------------------------------\n",
            "Stable tokens:    ['Akash Network', 'Helium']\n",
            "Variable tokens:  ['0x', '0x Protocol', '1inch Network', 'AIOZ Network', 'Aave', 'Aelf', 'Alchemy Pay', 'Aleph Zero', 'Algorand', 'Amp', 'Ankr', 'Ankr Network', 'ApeCoin', 'Apecoin', 'Aptos', 'Aragon', 'Arbitrum', 'ArcBlock', 'Ardor', 'Ark', 'Arkham', 'Artrade', 'Arweave', 'Astar', 'Astar Network', 'Avalanche', 'Axelar', 'Axie Infinity', 'BNB', 'Basic Attention Token', 'Beam', 'Beldex', 'Biconomy', 'Binance Coin', 'BitTorrent', 'Bitcoin Cash', 'Bitcoin ETF Token', 'Bitcoin Gold', 'Bitcoin Minetrix', 'Bitcoin SV', 'Bitget Token', 'Bittensor', 'Blur', 'Bonk', 'Bora', 'Braintrust', 'CREAM Finance', 'Cardano', 'Casper', 'Celestia', 'Celo', 'Celsius', 'Centrifuge', 'Chainlink', 'Chia', 'Chiliz', 'Chromia', 'Compound', 'Conflux', 'Core', 'Cosmos', 'Cronos', 'Curve DAO Token', 'DYDX', 'Decentraland', 'Decimal', 'Decred', 'Dogecoin', 'Dogwifhat', 'EOS', 'ETHPoW', 'Echelon Prime', 'Enjin Coin', 'Ethereum Classic', 'Ethereum Name Service', 'Ethereum PoW', 'EthereumPoW', 'FLOKI', 'FTX Token', 'Fantom', 'Fasttoken', 'Fetch.ai', 'Filecoin', 'Flare', 'Floki', 'Floki Inu', 'Flow', 'Flux', 'GMT', 'GMX', 'Gala', 'Gas', 'GateToken', 'Gnosis', 'Golem', 'Harmony', 'Hedera', 'Hifi Finance', 'Holo', 'Huobi Token', 'ICON', 'IOTA', 'Illuvium', 'Immutable', 'Immutable X', 'Injective', 'Internet Computer', 'IoTeX', 'JUST', 'JasmyCoin', 'Jito', 'Kaspa', 'Kava', 'Klaytn', 'KuCoin Token', 'Kujira', 'Kusama', 'LTO Network', 'Lido DAO', 'Liquity', 'Litecoin', 'Livepeer', 'Loom Network', 'Loopring', 'MANTRA DAO', 'MATH', 'Maker', 'Mantle', 'Mask Network', 'Meme Kombat', 'Memecoin', 'Mina', 'Mina Protocol', 'Monero', 'Moonbeam', 'Moonriver', 'Multichain', 'MultiversX', 'NEAR Protocol', 'NEM', 'NEO', 'Neo', 'Nervos Network', 'Neutron', 'Nexo', 'OKB', 'ORDI', 'Oasis Network', 'Ocean Protocol', 'OctaSpace', 'Ontology', 'Optimism', 'Orbler', 'Orbs', 'Ordinals', 'OriginTrail', 'Osmosis', 'PancakeSwap', 'Pax Gold', 'Pendle', 'Pepe', 'Pepe Coin', 'Picasso', 'Pocket Network', 'Polkadot', 'Polygon', 'Polymath', 'Powerledger', 'Pyth Network', 'Qtum', 'Quant', 'Raydium', 'Render', 'Render Token', 'Reserve Rights', 'Rocket Pool', 'Rollbit Coin', 'Rollbit token', 'Ronin', 'SKALE', 'SSV Network', 'SSV.Network', 'SSV.network', 'SafePal', 'Sei', 'Shiba Inu', 'Siacoin', 'SingularityNET', 'Skale', 'Solana', 'Sponge V2', 'Ssv.network', 'Stacks', 'Status', 'Steem Dollars', 'Stellar', 'Storj', 'Stratis', 'Sui', 'Sui Crypto', 'Sushi', 'SushiSwap', 'SwissBorg', 'Synthetix', 'THORChain', 'TRON', 'Telcoin', 'Tellor', 'Terra', 'Terra Classic', 'Tezos', 'The Graph', 'The Sandbox', 'Theta Fuel', 'Theta Network', 'Threshold', 'Toncoin', 'Tribe', 'UMA', 'UNUS SED LEO', 'Uniswap', 'VeChain', 'VeThor Token', 'WAX', 'WEMIX', 'WOO', 'WOO Network', 'Waves', 'Worldcoin', 'Wormhole', 'XDC Network', 'XRP', 'Zeebu', 'ZetaChain', 'Zilliqa', 'dYdX', 'dydx', 'eCash', 'eTukTuk', 'ssv.network', 'yearn.finance']\n",
            "\n",
            "Insight 2: Monthly Variations\n",
            "Insight                             Data\n",
            "----------------------------------  ------\n",
            "Month with maximum token listings:  May\n",
            "Month with minimum token listings:  March\n",
            "\n",
            "Insight 3: Emerging Tokens\n",
            "Insight           Data\n",
            "----------------  -----------------------------------------------------------------------------------------------------------------------------------------------------------------------------------------------------------------------------------------------------------------------------------------------------\n",
            "Emerging tokens:  ['Alchemy Pay', 'ArcBlock', 'Ark', 'Artrade', 'Bitcoin Gold', 'Celsius', 'ETHPoW', 'Enjin Coin', 'Fasttoken', 'Golem', 'Harmony', 'Livepeer', 'Loopring', 'OctaSpace', 'Picasso', 'Powerledger', 'Raydium', 'Rollbit token', 'SSV Network', 'SwissBorg', 'UMA', 'VeThor Token', 'Zeebu', 'ZetaChain']\n",
            "\n",
            "Insight 4: Stability vs. Volatility\n",
            "Insight                         Data\n",
            "------------------------  ----------\n",
            "Stable token presence:    0.00823045\n",
            "Volatile token presence:  0.99177\n",
            "\n",
            "Insight 5: Popular Tokens\n",
            "Insight          Data\n",
            "---------------  ---------------------------------------\n",
            "Popular tokens:  ['Ethereum', 'Bitcoin', 'Binance Coin']\n",
            "\n",
            "Insight 6: Clusters of Tokens\n",
            "Insight                   Data\n",
            "------------------------  ----------------------------------------------------------------------------------------------------------------------------------------------------------------------------------------------------------------------------------------------------------------------------------------------------------------------------------------------------------------------------------------------------------------------------------------------------------------------------------------------------------------------------------------------------------------------------------------------------------------------------------------------------------------------------------------------------------------------------------------------------------------------------------------------------------------------------------------------------------------------------------------------------------------------------------------------------------------------------------------\n",
            "Token clusters by month:\n",
            "Apr                       Ontology, Chainlink, Stacks, Ankr Network, Arkham, Ocean Protocol, Worldcoin, Siacoin, Sei, Cardano, Fetch.ai, Filecoin, Immutable X, Gala, THORChain, Internet Computer, Sui Crypto, Waves, Jito, Injective, Akash Network, Chiliz, Axelar, NEAR Protocol, Aragon, OKB, Core, Bora, Qtum, Orbler, GMX, Celestia, Arweave, UNUS SED LEO, Pax Gold, Orbs, MATH, Decimal, CREAM Finance, Cronos, Conflux, Oasis Network, BitTorrent, JUST, JasmyCoin, Helium, Basic Attention Token, Braintrust, SafePal, KuCoin Token, Theta Fuel, Neo, VeChain, Astar Network, Ronin, Mantle, Lido DAO, Moonbeam, Kaspa, Wormhole, Fantom, Telcoin, Ethereum Classic, Reserve Rights, Bitget Token, Monero, Amp, MANTRA DAO, Pocket Network, WOO Network, eCash, Kava, Aptos, Maker, Flare, Floki Inu, Bitcoin SV, Biconomy, EOS, XDC Network, OriginTrail, SingularityNET, GateToken, ICON, Litecoin, Illuvium, Chromia, Centrifuge, Nervos Network, Synthetix, Toncoin, IoTeX\n",
            "Dec                       ORDI, Quant, Chia, NEAR Protocol, Moonriver, Kusama, Meme Kombat, THORChain, Moonbeam, Stacks, Immutable, Ethereum PoW, Centrifuge, Oasis Network, Arbitrum, Tellor, Storj, MultiversX, Axelar, Fantom, Bitcoin Minetrix, Solana, VeChain, Sei, Celestia, Injective, Bitcoin ETF Token, EthereumPoW, Worldcoin, Bitget Token, Ankr, EOS, WOO Network, Neutron, Aave, Arweave, Osmosis, Bonk, Akash Network, FTX Token, Fetch.ai, Jito, Helium, Kujira, Astar, Optimism, Flare, The Sandbox, Cardano, Polkadot, Algorand, Sui, Ronin, Holo, Filecoin, Flux, Beam, BitTorrent, Flow, Threshold, Terra Classic, Pepe, Pendle, Floki Inu, Bittensor, Ssv.network, Aelf, WEMIX, WAX, SSV.network, SushiSwap, Axie Infinity, Aleph Zero, Echelon Prime, Cosmos, JUST, Decentraland, Mina\n",
            "Feb                       Immutable, Flare, Worldcoin, Fantom, The Graph, Injective, Uniswap, SingularityNET, Polygon, Celestia, Gnosis, eTukTuk, VeChain, Arweave, Ronin, BNB, Stacks, Bonk, Flow, Dogwifhat, Sui Crypto, Mina Protocol, Bitget Token, Sei, Optimism, Akash Network, Avalanche, Beam, Bitcoin Cash, Helium, Chainlink, Pendle, Sponge V2, Tribe, eCash, ORDI, WOO, Synthetix, TRON, Conflux, Ethereum Name Service, Hedera, XRP, Filecoin, Theta Network, Bitcoin SV, Pyth Network, Oasis Network, Render, Aptos, ApeCoin, Tellor, Sui, Jito, Bittensor, Decred, Toncoin\n",
            "Jan                       0x, WOO, The Graph, Compound, Akash Network, Fantom, ORDI, Osmosis, Nexo, SKALE, KuCoin Token, Stacks, IOTA, NEM, Aptos, Helium, Bittensor, Casper, Multichain, Siacoin, Huobi Token, Rollbit Coin, Axelar, Dogecoin, FLOKI, THORChain, Ronin, Sushi, Theta Network, Chainlink, Decentraland, Pocket Network, Conflux, dydx, WEMIX, Mina, Tezos, Toncoin, Celestia, Moonriver, dYdX, Curve DAO Token, EthereumPoW, Optimism, MultiversX, Arweave, Jito, Blur, Rocket Pool, ssv.network, Bonk, Bitcoin SV, Mantle, Celo, Internet Computer, Bitget Token, Render, GMT, Memecoin, Synthetix, Stellar, Neutron, Pendle, Terra Classic, Fetch.ai, WOO Network, Injective, Lido DAO, Arbitrum, NEAR Protocol, SSV.Network, 1inch Network, Quant, Filecoin, Holo, Storj, Tellor, Ethereum PoW, BNB, PancakeSwap, Kusama, Sponge V2\n",
            "Mar                       Internet Computer, Lido DAO, Maker, JasmyCoin, Axelar, Ronin, Kaspa, Decentraland, Stacks, Celestia, Fetch.ai, Optimism, MANTRA DAO, Aptos, Fantom, LTO Network, Render Token, Mask Network, SingularityNET, Flow, Akash Network, Pyth Network, Illuvium, Sui Crypto, Solana, Worldcoin, Sei, UNUS SED LEO, PancakeSwap, KuCoin Token, Helium, Flare, IoTeX, ApeCoin, Quant, Synthetix, Avalanche, Toncoin, Litecoin, XRP, NEAR Protocol, OKB, Floki Inu, Chainlink, Axie Infinity, Mina Protocol, Gala, Filecoin, Binance Coin, Injective, Conflux, Ankr, Cosmos, Hedera, The Graph, Aave, Terra Classic, Arweave, Ethereum Classic, Bitcoin SV, Cronos, MultiversX, Shiba Inu, Floki, Neo, Kava\n",
            "March                     Sui Crypto, BitTorrent, UNUS SED LEO, Synthetix, Toncoin, Litecoin, Solana, Tezos, IOTA, Conflux, Polkadot, Pepe Coin, Sei, Bonk, THORChain, Mantle, The Sandbox, Chromia, Decentraland, DYDX, Uniswap, PancakeSwap, EOS, Axelar, WOO Network, KuCoin Token, Gala, Binance Coin, Akash Network, Casper, AIOZ Network, Siacoin, Chiliz, Monero, Helium, Filecoin, Fetch.ai, Klaytn\n",
            "May                       Biconomy, OriginTrail, JasmyCoin, ETHPoW, Gala, Holo, Harmony, Ronin, Ethereum Name Service, Arbitrum, Aragon, Loopring, Pendle, Livepeer, Fasttoken, ArcBlock, Tellor, Aelf, Enjin Coin, Bonk, Reserve Rights, 0x, Gnosis, SSV Network, Chainlink, Sui Crypto, Conflux, Fantom, Raydium, Jito, Sei, Chromia, Waves, Illuvium, Axelar, NEAR Protocol, Stacks, Qtum, eCash, OctaSpace, Powerledger, Zeebu, Artrade, Bitcoin Gold, Immutable X, Mina Protocol, Helium, SafePal, ZetaChain, Pepe, Ark, Golem, SushiSwap, GMX, Celsius, UMA, Toncoin, SwissBorg, Rocket Pool, Terra Classic, Lido DAO, Injective, KuCoin Token, Solana, Fetch.ai, SingularityNET, Worldcoin, Ocean Protocol, Render Token, The Graph, Bitcoin SV, Hedera, Decred, VeThor Token, Telcoin, Optimism, Avalanche, Amp, Internet Computer, Picasso, Monero, Arweave, Ethereum Classic, Wormhole, Theta Fuel, Synthetix, EOS, Alchemy Pay, XDC Network, Rollbit token, Algorand, IOTA, WEMIX, Kaspa, Akash Network\n",
            "Nov                       Fetch.ai, Stratis, Mantle, Sui, Blur, Helium, 0x Protocol, SushiSwap, Ark, OKB, Klaytn, THORChain, PancakeSwap, Apecoin, BNB, Axelar, Bonk, Skale, Telcoin, Arweave, Akash Network, Ardor, Worldcoin, Echelon Prime, KuCoin Token, Beldex, Zilliqa, Pendle, yearn.finance, Render, Synthetix, Cronos, Gas, Lido DAO, MultiversX, Maker, Orbs, Gnosis, Filecoin, Terra, Celestia, Hifi Finance, Rocket Pool, SSV Network, Optimism, FTX Token, Storj, Kaspa, Ordinals, Toncoin, Steem Dollars, Moonriver, Aave, Astar, NEO, Kusama, Immutable, Illuvium, WEMIX, Polymath, NEAR Protocol, Mask Network, Nervos Network, JUST, Status, Qtum, WOO Network, Neo, Loom Network, Injective, Meme Kombat, Gala, Liquity, The Graph, Floki, Conflux, Chainlink, Pepe\n",
            "\n",
            "Insight 7: Total Token Count\n",
            "Insight                        Data\n",
            "---------------------------  ------\n",
            "Total token count by month:\n",
            "Apr                              92\n",
            "Dec                              78\n",
            "Feb                              57\n",
            "Jan                              82\n",
            "Mar                              66\n",
            "March                            38\n",
            "May                              95\n",
            "Nov                              78\n"
          ]
        }
      ]
    },
    {
      "cell_type": "markdown",
      "source": [
        "# Visualization\n",
        "\n",
        "Finally, we visualize the top 10 cryptocurrencies by the total count of occurrences.\n"
      ],
      "metadata": {
        "id": "QfNk1Xt5q272"
      }
    },
    {
      "cell_type": "code",
      "source": [
        "import matplotlib.pyplot as plt\n",
        "\n",
        "# Load the processed CSV file\n",
        "summary_df = pd.read_csv(\"Cryptocurrency_Gainers_Summary_Generator.csv\")\n",
        "\n",
        "# Get the top 10 cryptocurrencies by total count\n",
        "top_10 = summary_df.nlargest(10, 'Total Count')\n",
        "\n",
        "# Plot the top 10 cryptocurrencies\n",
        "plt.figure(figsize=(12, 8))\n",
        "plt.barh(top_10['Cryptocurrency'], top_10['Total Count'], color='skyblue')\n",
        "plt.xlabel('Total Count')\n",
        "plt.ylabel('Cryptocurrency')\n",
        "plt.title('Top 10 Cryptocurrencies by Total Count of Appearances')\n",
        "plt.gca().invert_yaxis()\n",
        "plt.show()\n"
      ],
      "metadata": {
        "colab": {
          "base_uri": "https://localhost:8080/",
          "height": 718
        },
        "id": "14NcN3a5q43W",
        "outputId": "fc4d89f9-66db-4769-fa4d-50ec786297ac"
      },
      "execution_count": 28,
      "outputs": [
        {
          "output_type": "display_data",
          "data": {
            "text/plain": [
              "<Figure size 1200x800 with 1 Axes>"
            ],
            "image/png": "[encoded data removed]"
          },
          "metadata": {}
        }
      ]
    },
    {
      "cell_type": "markdown",
      "source": [
        "## Conclusion\n",
        "\n",
        "This project demonstrates web scraping, data processing, and visualization skills using Python. The steps include collecting data from a website, processing it to extract useful insights, and visualizing the results. This comprehensive analysis helps in understanding the trends and popularity of various cryptocurrencies over time.\n"
      ],
      "metadata": {
        "id": "ycf2yUs0q7kO"
      }
    }
  ]
}