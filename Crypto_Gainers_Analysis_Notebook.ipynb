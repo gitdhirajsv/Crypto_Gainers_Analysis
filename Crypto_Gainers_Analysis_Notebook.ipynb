{
  "cells": [
    {
      "cell_type": "markdown",
      "metadata": {
        "id": "-5_7MUfXCeGQ"
      },
      "source": [
        "# Crypto Gainers Analysis\n",
        "\n",
        "This project involves scraping data from a website to gather information about the top cryptocurrency gainers, processing this data to extract meaningful insights, and summarizing the occurrences of each cryptocurrency across different months.\n",
        "\n",
        "# Setup\n",
        "\n",
        "First, we need to install the necessary packages. Run the following cell to install the required libraries.\n",
        "\n"
      ]
    },
    {
      "cell_type": "code",
      "execution_count": null,
      "metadata": {
        "colab": {
          "base_uri": "https://localhost:8080/"
        },
        "id": "ITybESpU3-1I",
        "outputId": "a12e484b-2a17-44aa-d1c9-c55459694e52"
      },
      "outputs": [
        {
          "output_type": "stream",
          "name": "stdout",
          "text": [
            "Requirement already satisfied: requests in /usr/local/lib/python3.10/dist-packages (2.31.0)\n",
            "Requirement already satisfied: charset-normalizer<4,>=2 in /usr/local/lib/python3.10/dist-packages (from requests) (3.3.2)\n",
            "Requirement already satisfied: idna<4,>=2.5 in /usr/local/lib/python3.10/dist-packages (from requests) (3.7)\n",
            "Requirement already satisfied: urllib3<3,>=1.21.1 in /usr/local/lib/python3.10/dist-packages (from requests) (2.0.7)\n",
            "Requirement already satisfied: certifi>=2017.4.17 in /usr/local/lib/python3.10/dist-packages (from requests) (2024.2.2)\n",
            "Requirement already satisfied: beautifulsoup4 in /usr/local/lib/python3.10/dist-packages (4.12.3)\n",
            "Requirement already satisfied: soupsieve>1.2 in /usr/local/lib/python3.10/dist-packages (from beautifulsoup4) (2.5)\n",
            "Requirement already satisfied: pandas in /usr/local/lib/python3.10/dist-packages (2.0.3)\n",
            "Requirement already satisfied: python-dateutil>=2.8.2 in /usr/local/lib/python3.10/dist-packages (from pandas) (2.8.2)\n",
            "Requirement already satisfied: pytz>=2020.1 in /usr/local/lib/python3.10/dist-packages (from pandas) (2023.4)\n",
            "Requirement already satisfied: tzdata>=2022.1 in /usr/local/lib/python3.10/dist-packages (from pandas) (2024.1)\n",
            "Requirement already satisfied: numpy>=1.21.0 in /usr/local/lib/python3.10/dist-packages (from pandas) (1.25.2)\n",
            "Requirement already satisfied: six>=1.5 in /usr/local/lib/python3.10/dist-packages (from python-dateutil>=2.8.2->pandas) (1.16.0)\n",
            "Requirement already satisfied: matplotlib in /usr/local/lib/python3.10/dist-packages (3.7.1)\n",
            "Requirement already satisfied: contourpy>=1.0.1 in /usr/local/lib/python3.10/dist-packages (from matplotlib) (1.2.1)\n",
            "Requirement already satisfied: cycler>=0.10 in /usr/local/lib/python3.10/dist-packages (from matplotlib) (0.12.1)\n",
            "Requirement already satisfied: fonttools>=4.22.0 in /usr/local/lib/python3.10/dist-packages (from matplotlib) (4.51.0)\n",
            "Requirement already satisfied: kiwisolver>=1.0.1 in /usr/local/lib/python3.10/dist-packages (from matplotlib) (1.4.5)\n",
            "Requirement already satisfied: numpy>=1.20 in /usr/local/lib/python3.10/dist-packages (from matplotlib) (1.25.2)\n",
            "Requirement already satisfied: packaging>=20.0 in /usr/local/lib/python3.10/dist-packages (from matplotlib) (24.0)\n",
            "Requirement already satisfied: pillow>=6.2.0 in /usr/local/lib/python3.10/dist-packages (from matplotlib) (9.4.0)\n",
            "Requirement already satisfied: pyparsing>=2.3.1 in /usr/local/lib/python3.10/dist-packages (from matplotlib) (3.1.2)\n",
            "Requirement already satisfied: python-dateutil>=2.7 in /usr/local/lib/python3.10/dist-packages (from matplotlib) (2.8.2)\n",
            "Requirement already satisfied: six>=1.5 in /usr/local/lib/python3.10/dist-packages (from python-dateutil>=2.7->matplotlib) (1.16.0)\n"
          ]
        }
      ],
      "source": [
        "# Install required packages\n",
        "!pip install requests\n",
        "!pip install beautifulsoup4\n",
        "!pip install pandas\n",
        "!pip install matplotlib\n"
      ]
    },
    {
      "cell_type": "markdown",
      "metadata": {
        "id": "mySmMK7lqmGY"
      },
      "source": [
        "## Web Scraping\n",
        "\n",
        "The following code scrapes data from the website and saves it into a CSV file.\n"
      ]
    },
    {
      "cell_type": "code",
      "execution_count": null,
      "metadata": {
        "colab": {
          "base_uri": "https://localhost:8080/"
        },
        "id": "6ifYWLUVqrO_",
        "outputId": "19046549-c5ee-410c-9ccf-db6bb7c77b5f"
      },
      "outputs": [
        {
          "output_type": "stream",
          "name": "stdout",
          "text": [
            "Data has been saved to top_crypto_gainers.csv.\n"
          ]
        }
      ],
      "source": [
        "import requests\n",
        "from bs4 import BeautifulSoup\n",
        "import csv\n",
        "\n",
        "# Base URL and search query\n",
        "base_url = \"https://insidebitcoins.com/page/\"\n",
        "search_query = \"?s=Top+Crypto+Gainers\"\n",
        "\n",
        "# Total number of pages\n",
        "total_pages = 22\n",
        "\n",
        "# Open a CSV file to store the data\n",
        "with open(\"top_crypto_gainers.csv\", \"w\", newline='', encoding=\"utf-8\") as csvfile:\n",
        "    # Create a CSV writer object\n",
        "    writer = csv.writer(csvfile)\n",
        "\n",
        "    # Write header row\n",
        "    writer.writerow(['Page', 'Title'])\n",
        "\n",
        "    # Loop through each page\n",
        "    for page_num in range(1, total_pages + 1):\n",
        "        # Construct the URL for the current page\n",
        "        url = f\"{base_url}{page_num}{search_query}\"\n",
        "\n",
        "        # Send a GET request to the URL\n",
        "        response = requests.get(url)\n",
        "\n",
        "        # Parse HTML\n",
        "        soup = BeautifulSoup(response.text, 'html.parser')\n",
        "\n",
        "        # Find all the article titles containing the top crypto gainers\n",
        "        article_titles = soup.find_all('a', class_='article-header-title')\n",
        "\n",
        "        # Write the titles to the CSV file\n",
        "        for title in article_titles:\n",
        "            writer.writerow([page_num, title.text.strip()])\n",
        "\n",
        "print(\"Data has been saved to top_crypto_gainers.csv.\")\n"
      ]
    },
    {
      "cell_type": "markdown",
      "metadata": {
        "id": "br5hBNLqquso"
      },
      "source": [
        "## Data Processing\n",
        "\n",
        "Next, we process the scraped data to count the occurrences of each cryptocurrency by month and save the summary to a new CSV file.\n"
      ]
    },
    {
      "cell_type": "code",
      "execution_count": null,
      "metadata": {
        "id": "E8Cfp6laqx1m"
      },
      "outputs": [],
      "source": [
        "import pandas as pd\n",
        "\n",
        "# Load the original CSV file\n",
        "df = pd.read_csv('top_crypto_gainers.csv')\n",
        "\n",
        "# Initialize a dictionary to store data for each page\n",
        "page_data = {}\n",
        "\n",
        "# Iterate over each row in the CSV\n",
        "for index, row in df.iterrows():\n",
        "    page = int(row['Page'])\n",
        "    title = row['Title']\n",
        "\n",
        "    # Extract month, day, and cryptocurrencies\n",
        "    split_title = title.split('Today')\n",
        "    if len(split_title) > 1:  # Check if the title contains \"Today\"\n",
        "        month_day = split_title[1].strip().split()  # Extract month and day\n",
        "        month = month_day[0]  # Extract month\n",
        "        day = month_day[1]  # Extract day\n",
        "        cryptos = [crypto.strip() for crypto in split_title[1].split('–')[1].split(',')]  # Extract cryptocurrencies\n",
        "\n",
        "        # Update page data dictionary\n",
        "        if page not in page_data:\n",
        "            page_data[page] = {'Month': month, 'Day': day, 'Cryptocurrencies': cryptos}\n",
        "        else:\n",
        "            page_data[page]['Cryptocurrencies'].extend(cryptos)\n",
        "\n",
        "# Write the extracted data into a new CSV file\n",
        "with open('top_crypto_gainers_processed.csv', 'w', newline='') as csvfile:\n",
        "    fieldnames = ['Page', 'Month', 'Day', 'Cryptocurrency']\n",
        "    writer = csv.DictWriter(csvfile, fieldnames=fieldnames)\n",
        "\n",
        "    writer.writeheader()\n",
        "\n",
        "    # Write data for each page\n",
        "    for page, data in page_data.items():\n",
        "        month = data['Month']\n",
        "        day = data['Day']\n",
        "        cryptos = data['Cryptocurrencies']\n",
        "        for crypto in cryptos:\n",
        "            writer.writerow({'Page': page, 'Month': month, 'Day': day, 'Cryptocurrency': crypto})\n",
        "\n",
        "print(\"Data saved successfully to 'top_crypto_gainers_processed.csv'.\")\n"
      ]
    },
    {
      "cell_type": "markdown",
      "metadata": {
        "id": "GAuSTHJgqzqH"
      },
      "source": [
        "## Summarizing Data\n",
        "\n",
        "We will now summarize the data to count the occurrences of each cryptocurrency across different months.\n"
      ]
    },
    {
      "cell_type": "code",
      "execution_count": null,
      "metadata": {
        "colab": {
          "base_uri": "https://localhost:8080/"
        },
        "id": "K4YtZb_7q1SX",
        "outputId": "15178a32-7357-4731-b5c6-1cd00198ded0"
      },
      "outputs": [
        {
          "output_type": "stream",
          "name": "stdout",
          "text": [
            "Data has been saved to 'Cryptocurrency_Gainers_Summary_Generator.csv'.\n"
          ]
        }
      ],
      "source": [
        "# Load the processed CSV file into a DataFrame\n",
        "df_processed = pd.read_csv(\"top_crypto_gainers_processed.csv\")\n",
        "\n",
        "# Create a pivot table to count the occurrences of each cryptocurrency in each month\n",
        "pivot_table = df_processed.pivot_table(index='Cryptocurrency', columns='Month', aggfunc='size', fill_value=0)\n",
        "\n",
        "# Calculate the total count of occurrences for each cryptocurrency across all months\n",
        "total_count = pivot_table.sum(axis=1)\n",
        "\n",
        "# Get the list of months\n",
        "months = pivot_table.columns.tolist()\n",
        "\n",
        "# Initialize a dictionary to store the months in which each cryptocurrency appeared\n",
        "months_dict = {}\n",
        "\n",
        "# Iterate over each cryptocurrency\n",
        "for crypto in pivot_table.index:\n",
        "    # Get the months in which the cryptocurrency appeared\n",
        "    appeared_months = [months[i] for i in range(len(months)) if pivot_table.loc[crypto, months[i]] > 0]\n",
        "    # Store the months in the dictionary\n",
        "    months_dict[crypto] = appeared_months\n",
        "\n",
        "# Create a DataFrame to display the total count of occurrences and the months\n",
        "result_df = pd.DataFrame({'Total Count': total_count, 'Appeared Months': months_dict})\n",
        "\n",
        "# Sort the DataFrame by the \"Total Count\" column in descending order\n",
        "result_df_sorted = result_df.sort_values(by='Total Count', ascending=False)\n",
        "\n",
        "# Save the result to a new CSV file\n",
        "result_df_sorted[['Total Count', 'Appeared Months']].to_csv(\"Cryptocurrency_Gainers_Summary_Generator.csv\", index_label='Cryptocurrency')\n",
        "\n",
        "print(\"Data has been saved to 'Cryptocurrency_Gainers_Summary_Generator.csv'.\")\n"
      ]
    },
    {
      "cell_type": "markdown",
      "metadata": {
        "id": "x7mARRew7Eu-"
      },
      "source": [
        "## Insights\n"
      ]
    },
    {
      "cell_type": "code",
      "execution_count": null,
      "metadata": {
        "colab": {
          "base_uri": "https://localhost:8080/"
        },
        "id": "ng9paNbX7lXc",
        "outputId": "77bbe0c3-1f5b-4050-c5d2-cc196b0d9cd3"
      },
      "outputs": [
        {
          "output_type": "stream",
          "name": "stdout",
          "text": [
            "Insight 1: Monthly Distribution of Top Crypto Gainers\n",
            "Month      Count\n",
            "-------  -------\n",
            "Apr          119\n",
            "Dec          120\n",
            "Feb           79\n",
            "Jan          120\n",
            "Mar           79\n",
            "March         39\n",
            "May          118\n",
            "Nov          108\n",
            "\n",
            "Insight 2: Top Gainers by Month\n",
            "Month    Top Gainer\n",
            "-------  -------------\n",
            "Apr      Akash Network\n",
            "Dec      Bonk\n",
            "Feb      Immutable\n",
            "Jan      ORDI\n",
            "Mar      Toncoin\n",
            "March    Shiba Inu\n",
            "May      Bitcoin Gold\n",
            "Nov      Ark\n",
            "\n",
            "Insight 3: Top Gainers Overall\n",
            "Cryptocurrency      Count\n",
            "----------------  -------\n",
            "Stacks                 14\n",
            "Akash Network          13\n",
            "Axelar                 12\n",
            "Optimism               12\n",
            "Celestia               12\n",
            "\n",
            "Monthly Distribution data has been saved to 'Monthly Distribution_Insight.csv'\n",
            "Top Gainers by Month data has been saved to 'Top Gainers by Month_Insight.csv'\n",
            "Top Gainers Overall data has been saved to 'Top Gainers Overall_Insight.csv'\n"
          ]
        }
      ],
      "source": [
        "from tabulate import tabulate\n",
        "import pandas as pd\n",
        "\n",
        "# Load the processed CSV file into a DataFrame\n",
        "top_crypto_gainers_processed = pd.read_csv(\"top_crypto_gainers_processed.csv\")\n",
        "\n",
        "# Insight 1: Monthly Distribution of Top Crypto Gainers\n",
        "monthly_distribution = top_crypto_gainers_processed.groupby(['Month']).size().reset_index(name='Count')\n",
        "insight_1_data = monthly_distribution.values.tolist()\n",
        "\n",
        "# Insight 2: Top Gainers by Month\n",
        "top_gainers_by_month = top_crypto_gainers_processed.groupby(['Month'])['Cryptocurrency'].agg(lambda x: x.value_counts().index[0]).reset_index(name='Top Gainer')\n",
        "insight_2_data = top_gainers_by_month.values.tolist()\n",
        "\n",
        "# Insight 3: Top Gainers Overall\n",
        "top_gainers_overall = top_crypto_gainers_processed['Cryptocurrency'].value_counts().reset_index(name='Count').head(5)\n",
        "insight_3_data = top_gainers_overall.values.tolist()\n",
        "\n",
        "# Display insights as tables\n",
        "print(\"Insight 1: Monthly Distribution of Top Crypto Gainers\")\n",
        "print(tabulate(insight_1_data, headers=[\"Month\", \"Count\"]))\n",
        "print()\n",
        "\n",
        "print(\"Insight 2: Top Gainers by Month\")\n",
        "print(tabulate(insight_2_data, headers=[\"Month\", \"Top Gainer\"]))\n",
        "print()\n",
        "\n",
        "print(\"Insight 3: Top Gainers Overall\")\n",
        "print(tabulate(insight_3_data, headers=[\"Cryptocurrency\", \"Count\"]))\n",
        "print()\n",
        "\n",
        "# Export insights to CSV\n",
        "insights_data = {\n",
        "    \"Monthly Distribution\": monthly_distribution,\n",
        "    \"Top Gainers by Month\": top_gainers_by_month,\n",
        "    \"Top Gainers Overall\": top_gainers_overall\n",
        "}\n",
        "\n",
        "for insight_name, insight_df in insights_data.items():\n",
        "    insight_df.to_csv(f\"{insight_name}_Insight.csv\", index=False)\n",
        "    print(f\"{insight_name} data has been saved to '{insight_name}_Insight.csv'\")\n"
      ]
    },
    {
      "cell_type": "markdown",
      "metadata": {
        "id": "QfNk1Xt5q272"
      },
      "source": [
        "## Visualization\n",
        "\n",
        "Finally, we visualize the top 10 cryptocurrencies by the total count of occurrences.\n"
      ]
    },
    {
      "cell_type": "code",
      "execution_count": null,
      "metadata": {
        "id": "14NcN3a5q43W"
      },
      "outputs": [],
      "source": [
        "import matplotlib.pyplot as plt\n",
        "\n",
        "# Load the processed CSV file\n",
        "summary_df = pd.read_csv(\"Cryptocurrency_Gainers_Summary_Generator.csv\")\n",
        "\n",
        "# Get the top 10 cryptocurrencies by total count\n",
        "top_10 = summary_df.nlargest(10, 'Total Count')\n",
        "\n",
        "# Plot the top 10 cryptocurrencies\n",
        "plt.figure(figsize=(12, 8))\n",
        "plt.barh(top_10['Cryptocurrency'], top_10['Total Count'], color='skyblue')\n",
        "plt.xlabel('Total Count')\n",
        "plt.ylabel('Cryptocurrency')\n",
        "plt.title('Top 10 Cryptocurrencies by Total Count of Appearances')\n",
        "plt.gca().invert_yaxis()\n",
        "plt.show()\n"
      ]
    },
    {
      "cell_type": "markdown",
      "metadata": {
        "id": "ycf2yUs0q7kO"
      },
      "source": [
        "## Conclusion\n",
        "\n",
        "This project demonstrates web scraping, data processing, and visualization skills using Python. The steps include collecting data from a website, processing it to extract useful insights, and visualizing the results. This comprehensive analysis helps in understanding the trends and popularity of various cryptocurrencies over time.\n"
      ]
    }
  ],
  "metadata": {
    "colab": {
      "provenance": []
    },
    "kernelspec": {
      "display_name": "Python 3",
      "name": "python3"
    },
    "language_info": {
      "name": "python"
    }
  },
  "nbformat": 4,
  "nbformat_minor": 0
}